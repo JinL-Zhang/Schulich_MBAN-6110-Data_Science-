{
 "cells": [
  {
   "attachments": {},
   "cell_type": "markdown",
   "metadata": {},
   "source": [
    "### End-to-end Experiment Design and Analysis\n",
    "\n",
    "In this notebook, we will look at an example of analyzing and preparing a set of users to run an experiment on, and subsequently analyzing the results.\n",
    "\n",
    "First we will import pandas and the stats module from scipy."
   ]
  },
  {
   "cell_type": "code",
   "execution_count": 1,
   "metadata": {},
   "outputs": [],
   "source": [
    "import pandas as pd\n",
    "from scipy import stats"
   ]
  },
  {
   "attachments": {},
   "cell_type": "markdown",
   "metadata": {},
   "source": [
    "Now we're going to import a data file. Assuming this data file relates to a mobile game, our main objectives would be to increase the amount of time users spend playing, to increase the amount of money they spend in the game, and to increase the average time they spend watching ads. In this data file we have several variables:\n",
    "* User ID - unique user identifier\n",
    "* Age - the age of a user\n",
    "* Device Type - the type of device they have (e.g., android, iphone)\n",
    "* Location - where they live (e.g., Canada, US)\n",
    "* Average Spend - how much money they spend in the product\n",
    "* Average Play Time - how much time they spend playing a game\n",
    "* Average Time Watching Ads - how much time they spend watching ads"
   ]
  },
  {
   "cell_type": "code",
   "execution_count": 2,
   "metadata": {},
   "outputs": [],
   "source": [
    "df = pd.read_csv('https://raw.githubusercontent.com/delinai/schulich_ds1/main/Datasets/experiment_demo_dataset.csv')"
   ]
  },
  {
   "cell_type": "code",
   "execution_count": 3,
   "metadata": {},
   "outputs": [
    {
     "data": {
      "text/html": [
       "<div>\n",
       "<style scoped>\n",
       "    .dataframe tbody tr th:only-of-type {\n",
       "        vertical-align: middle;\n",
       "    }\n",
       "\n",
       "    .dataframe tbody tr th {\n",
       "        vertical-align: top;\n",
       "    }\n",
       "\n",
       "    .dataframe thead th {\n",
       "        text-align: right;\n",
       "    }\n",
       "</style>\n",
       "<table border=\"1\" class=\"dataframe\">\n",
       "  <thead>\n",
       "    <tr style=\"text-align: right;\">\n",
       "      <th></th>\n",
       "      <th>Unnamed: 0</th>\n",
       "      <th>User ID</th>\n",
       "      <th>Age</th>\n",
       "      <th>Device Type</th>\n",
       "      <th>Location</th>\n",
       "      <th>Average Spend</th>\n",
       "      <th>Average Play Time</th>\n",
       "      <th>Average Time Watching Ads</th>\n",
       "    </tr>\n",
       "  </thead>\n",
       "  <tbody>\n",
       "    <tr>\n",
       "      <th>0</th>\n",
       "      <td>0</td>\n",
       "      <td>1</td>\n",
       "      <td>62</td>\n",
       "      <td>Device3</td>\n",
       "      <td>Location3</td>\n",
       "      <td>54.608937</td>\n",
       "      <td>0.234102</td>\n",
       "      <td>2.262157</td>\n",
       "    </tr>\n",
       "    <tr>\n",
       "      <th>1</th>\n",
       "      <td>1</td>\n",
       "      <td>2</td>\n",
       "      <td>65</td>\n",
       "      <td>Device1</td>\n",
       "      <td>Location1</td>\n",
       "      <td>36.428457</td>\n",
       "      <td>0.802944</td>\n",
       "      <td>1.440160</td>\n",
       "    </tr>\n",
       "    <tr>\n",
       "      <th>2</th>\n",
       "      <td>2</td>\n",
       "      <td>3</td>\n",
       "      <td>18</td>\n",
       "      <td>Device1</td>\n",
       "      <td>Location2</td>\n",
       "      <td>84.843851</td>\n",
       "      <td>4.349362</td>\n",
       "      <td>0.374079</td>\n",
       "    </tr>\n",
       "    <tr>\n",
       "      <th>3</th>\n",
       "      <td>3</td>\n",
       "      <td>4</td>\n",
       "      <td>21</td>\n",
       "      <td>Device3</td>\n",
       "      <td>Location1</td>\n",
       "      <td>30.963386</td>\n",
       "      <td>5.966833</td>\n",
       "      <td>2.430972</td>\n",
       "    </tr>\n",
       "    <tr>\n",
       "      <th>4</th>\n",
       "      <td>4</td>\n",
       "      <td>5</td>\n",
       "      <td>21</td>\n",
       "      <td>Device3</td>\n",
       "      <td>Location2</td>\n",
       "      <td>76.392755</td>\n",
       "      <td>9.401406</td>\n",
       "      <td>1.041962</td>\n",
       "    </tr>\n",
       "  </tbody>\n",
       "</table>\n",
       "</div>"
      ],
      "text/plain": [
       "   Unnamed: 0  User ID  Age Device Type   Location  Average Spend  \\\n",
       "0           0        1   62     Device3  Location3      54.608937   \n",
       "1           1        2   65     Device1  Location1      36.428457   \n",
       "2           2        3   18     Device1  Location2      84.843851   \n",
       "3           3        4   21     Device3  Location1      30.963386   \n",
       "4           4        5   21     Device3  Location2      76.392755   \n",
       "\n",
       "   Average Play Time  Average Time Watching Ads  \n",
       "0           0.234102                   2.262157  \n",
       "1           0.802944                   1.440160  \n",
       "2           4.349362                   0.374079  \n",
       "3           5.966833                   2.430972  \n",
       "4           9.401406                   1.041962  "
      ]
     },
     "execution_count": 3,
     "metadata": {},
     "output_type": "execute_result"
    }
   ],
   "source": [
    "df.head()"
   ]
  },
  {
   "attachments": {},
   "cell_type": "markdown",
   "metadata": {},
   "source": [
    "We should remove the Unnamed: 0 column, and set the User Id as the index. Let's also check df.info() to make sure the data is clean."
   ]
  },
  {
   "cell_type": "code",
   "execution_count": 4,
   "metadata": {},
   "outputs": [],
   "source": [
    "df.drop('Unnamed: 0', axis=1, inplace = True)\n",
    "df.set_index('User ID', inplace=True)"
   ]
  },
  {
   "cell_type": "code",
   "execution_count": 5,
   "metadata": {},
   "outputs": [
    {
     "name": "stdout",
     "output_type": "stream",
     "text": [
      "<class 'pandas.core.frame.DataFrame'>\n",
      "Int64Index: 1000 entries, 1 to 1000\n",
      "Data columns (total 6 columns):\n",
      " #   Column                     Non-Null Count  Dtype  \n",
      "---  ------                     --------------  -----  \n",
      " 0   Age                        1000 non-null   int64  \n",
      " 1   Device Type                1000 non-null   object \n",
      " 2   Location                   1000 non-null   object \n",
      " 3   Average Spend              1000 non-null   float64\n",
      " 4   Average Play Time          1000 non-null   float64\n",
      " 5   Average Time Watching Ads  1000 non-null   float64\n",
      "dtypes: float64(3), int64(1), object(2)\n",
      "memory usage: 54.7+ KB\n"
     ]
    }
   ],
   "source": [
    "df.info()"
   ]
  },
  {
   "attachments": {},
   "cell_type": "markdown",
   "metadata": {},
   "source": [
    "Now let's do some analysis to understand differences between users. Before we design the experiment, we need to make sure the users are similar in behaviour. This means that users shouldn't have significant differences between the amounts of money they spend, time they spend playing games, or time they spend watching ads. We should compare users by Location, Device Type and Age. We can use statistical tests to support our analysis."
   ]
  },
  {
   "cell_type": "code",
   "execution_count": 6,
   "metadata": {},
   "outputs": [
    {
     "data": {
      "text/html": [
       "<div>\n",
       "<style scoped>\n",
       "    .dataframe tbody tr th:only-of-type {\n",
       "        vertical-align: middle;\n",
       "    }\n",
       "\n",
       "    .dataframe tbody tr th {\n",
       "        vertical-align: top;\n",
       "    }\n",
       "\n",
       "    .dataframe thead th {\n",
       "        text-align: right;\n",
       "    }\n",
       "</style>\n",
       "<table border=\"1\" class=\"dataframe\">\n",
       "  <thead>\n",
       "    <tr style=\"text-align: right;\">\n",
       "      <th></th>\n",
       "      <th>Average Spend</th>\n",
       "      <th>Average Play Time</th>\n",
       "      <th>Average Time Watching Ads</th>\n",
       "    </tr>\n",
       "    <tr>\n",
       "      <th>Location</th>\n",
       "      <th></th>\n",
       "      <th></th>\n",
       "      <th></th>\n",
       "    </tr>\n",
       "  </thead>\n",
       "  <tbody>\n",
       "    <tr>\n",
       "      <th>Location1</th>\n",
       "      <td>51.144352</td>\n",
       "      <td>5.093330</td>\n",
       "      <td>1.503598</td>\n",
       "    </tr>\n",
       "    <tr>\n",
       "      <th>Location2</th>\n",
       "      <td>51.752892</td>\n",
       "      <td>5.062008</td>\n",
       "      <td>1.453953</td>\n",
       "    </tr>\n",
       "    <tr>\n",
       "      <th>Location3</th>\n",
       "      <td>50.563795</td>\n",
       "      <td>4.952144</td>\n",
       "      <td>1.498298</td>\n",
       "    </tr>\n",
       "  </tbody>\n",
       "</table>\n",
       "</div>"
      ],
      "text/plain": [
       "           Average Spend  Average Play Time  Average Time Watching Ads\n",
       "Location                                                              \n",
       "Location1      51.144352           5.093330                   1.503598\n",
       "Location2      51.752892           5.062008                   1.453953\n",
       "Location3      50.563795           4.952144                   1.498298"
      ]
     },
     "execution_count": 6,
     "metadata": {},
     "output_type": "execute_result"
    }
   ],
   "source": [
    "# By location\n",
    "df.groupby('Location')[['Average Spend','Average Play Time','Average Time Watching Ads']].mean()"
   ]
  },
  {
   "attachments": {},
   "cell_type": "markdown",
   "metadata": {},
   "source": [
    "This looks mostly the same. Let's use an ANOVA test to validate each metric. If they are statistically the same, they should have a HIGH p-value."
   ]
  },
  {
   "cell_type": "code",
   "execution_count": 7,
   "metadata": {},
   "outputs": [
    {
     "name": "stdout",
     "output_type": "stream",
     "text": [
      "F_onewayResult(statistic=0.1464947745048961, pvalue=0.8637488343476756)\n"
     ]
    }
   ],
   "source": [
    "# checking spend\n",
    "loc_1 = df[df['Location'] == 'Location1']['Average Spend']\n",
    "loc_2 = df[df['Location'] == 'Location2']['Average Spend']\n",
    "loc_3 = df[df['Location'] == 'Location3']['Average Spend']\n",
    "\n",
    "p_val = stats.f_oneway(loc_1, loc_2, loc_3)\n",
    "print(p_val)\n"
   ]
  },
  {
   "cell_type": "code",
   "execution_count": 8,
   "metadata": {},
   "outputs": [
    {
     "name": "stdout",
     "output_type": "stream",
     "text": [
      "F_onewayResult(statistic=0.219950898335729, pvalue=0.8025971367411683)\n"
     ]
    }
   ],
   "source": [
    "# checking Play Time\n",
    "loc_1 = df[df['Location'] == 'Location1']['Average Play Time']\n",
    "loc_2 = df[df['Location'] == 'Location2']['Average Play Time']\n",
    "loc_3 = df[df['Location'] == 'Location3']['Average Play Time']\n",
    "\n",
    "p_val = stats.f_oneway(loc_1, loc_2, loc_3)\n",
    "print(p_val)"
   ]
  },
  {
   "cell_type": "code",
   "execution_count": 9,
   "metadata": {},
   "outputs": [
    {
     "name": "stdout",
     "output_type": "stream",
     "text": [
      "F_onewayResult(statistic=0.3246211420994766, pvalue=0.7228775087524879)\n"
     ]
    }
   ],
   "source": [
    "# checking Time Watching Ads\n",
    "loc_1 = df[df['Location'] == 'Location1']['Average Time Watching Ads']\n",
    "loc_2 = df[df['Location'] == 'Location2']['Average Time Watching Ads']\n",
    "loc_3 = df[df['Location'] == 'Location3']['Average Time Watching Ads']\n",
    "\n",
    "p_val = stats.f_oneway(loc_1, loc_2, loc_3)\n",
    "print(p_val)"
   ]
  },
  {
   "attachments": {},
   "cell_type": "markdown",
   "metadata": {},
   "source": [
    "For all 3 locations, it seems that the users behave the same. There is no statistically significant difference between them - this means we can comfortably assign all users to any variant of our experiment.\n",
    "\n",
    "Let's check the same for device type."
   ]
  },
  {
   "cell_type": "code",
   "execution_count": 10,
   "metadata": {},
   "outputs": [
    {
     "name": "stdout",
     "output_type": "stream",
     "text": [
      "F_onewayResult(statistic=0.03056354414431916, pvalue=0.9698997074210355)\n"
     ]
    }
   ],
   "source": [
    "# checking spend\n",
    "loc_1 = df[df['Device Type'] == 'Device1']['Average Spend']\n",
    "loc_2 = df[df['Device Type'] == 'Device2']['Average Spend']\n",
    "loc_3 = df[df['Device Type'] == 'Device3']['Average Spend']\n",
    "\n",
    "p_val = stats.f_oneway(loc_1, loc_2, loc_3)\n",
    "print(p_val)"
   ]
  },
  {
   "cell_type": "code",
   "execution_count": 11,
   "metadata": {},
   "outputs": [
    {
     "name": "stdout",
     "output_type": "stream",
     "text": [
      "F_onewayResult(statistic=2.25245551853566, pvalue=0.10567552404042554)\n"
     ]
    }
   ],
   "source": [
    "# checking play time\n",
    "loc_1 = df[df['Device Type'] == 'Device1']['Average Play Time']\n",
    "loc_2 = df[df['Device Type'] == 'Device2']['Average Play Time']\n",
    "loc_3 = df[df['Device Type'] == 'Device3']['Average Play Time']\n",
    "\n",
    "p_val = stats.f_oneway(loc_1, loc_2, loc_3)\n",
    "print(p_val)"
   ]
  },
  {
   "cell_type": "code",
   "execution_count": 12,
   "metadata": {},
   "outputs": [
    {
     "name": "stdout",
     "output_type": "stream",
     "text": [
      "F_onewayResult(statistic=0.008244524732634912, pvalue=0.9917894357700617)\n"
     ]
    }
   ],
   "source": [
    "# checking spend\n",
    "loc_1 = df[df['Device Type'] == 'Device1']['Average Time Watching Ads']\n",
    "loc_2 = df[df['Device Type'] == 'Device2']['Average Time Watching Ads']\n",
    "loc_3 = df[df['Device Type'] == 'Device3']['Average Time Watching Ads']\n",
    "\n",
    "p_val = stats.f_oneway(loc_1, loc_2, loc_3)\n",
    "print(p_val)"
   ]
  },
  {
   "attachments": {},
   "cell_type": "markdown",
   "metadata": {},
   "source": [
    "Again we see that behaviour is mostly similar across device types, with the exception of Play Time. We see a much lower p-value, however this is still above 0.05. To be safe though, perhaps we won't do an experiment which seeks to influence Play Time. Why? Because if there are differences in behaviour between people who have different devices, if we run an experiment we won't be able to attribute the change in behaviour to the experiment. Our results won't be reliable. So, with this user group we should focus on feature changes which could impact Averaage Time Watching Ads or Average Spend.\n",
    "\n",
    "## Experiment Design\n",
    "\n",
    "Now that we confirmed our users have similar characteristics for the most part, and we identified the risk of experimenting with Play Time as we do see SOME difference by device type, we can go ahead and design an experiment. We can pick between Increasing Average Spend or Increasing Avg Time Spent Watching Ads.\n",
    "\n",
    "Let's take Average Spend. Suppose we introduced a new notification type which offered users a % discount on their next in-app purchase. Perhaps we want to offer some users 10% off and other users 20% off to see which discount works best. We should now divide our data set into 3 sections: Variant 1 - 10% off; Variant 2 - 20% off, and Control - no discount. After the experiment, we will review the results.\n",
    "\n",
    "We can use pandas' sample() function to select subsets of users, or simply select the first 300 for Variant 1, the second 300 for Variant 2 and the last 400 for Control."
   ]
  },
  {
   "cell_type": "code",
   "execution_count": 13,
   "metadata": {},
   "outputs": [],
   "source": [
    "# Variant 1 - 10% off - 30% of users\n",
    "variant1 = df.iloc[0:300]"
   ]
  },
  {
   "cell_type": "code",
   "execution_count": 14,
   "metadata": {},
   "outputs": [],
   "source": [
    "# Variant 2 - 20% off - 30% of users\n",
    "variant2 = df.iloc[300:600]"
   ]
  },
  {
   "cell_type": "code",
   "execution_count": 15,
   "metadata": {},
   "outputs": [],
   "source": [
    "# Control group - no discount\n",
    "control = df.iloc[600:]"
   ]
  },
  {
   "cell_type": "code",
   "execution_count": 16,
   "metadata": {},
   "outputs": [
    {
     "name": "stderr",
     "output_type": "stream",
     "text": [
      "/var/folders/75/tr_v06ms4k7gy38vcppxbcf80000gn/T/ipykernel_62994/599480143.py:2: SettingWithCopyWarning: \n",
      "A value is trying to be set on a copy of a slice from a DataFrame.\n",
      "Try using .loc[row_indexer,col_indexer] = value instead\n",
      "\n",
      "See the caveats in the documentation: https://pandas.pydata.org/pandas-docs/stable/user_guide/indexing.html#returning-a-view-versus-a-copy\n",
      "  variant1['Variant'] = 'Variant 1'\n"
     ]
    }
   ],
   "source": [
    "# Create a new column to add the variant identifier\n",
    "variant1['Variant'] = 'Variant 1'"
   ]
  },
  {
   "cell_type": "code",
   "execution_count": 17,
   "metadata": {},
   "outputs": [
    {
     "name": "stderr",
     "output_type": "stream",
     "text": [
      "/var/folders/75/tr_v06ms4k7gy38vcppxbcf80000gn/T/ipykernel_62994/1344624173.py:1: SettingWithCopyWarning: \n",
      "A value is trying to be set on a copy of a slice from a DataFrame.\n",
      "Try using .loc[row_indexer,col_indexer] = value instead\n",
      "\n",
      "See the caveats in the documentation: https://pandas.pydata.org/pandas-docs/stable/user_guide/indexing.html#returning-a-view-versus-a-copy\n",
      "  variant2['Variant'] = 'Variant 2'\n",
      "/var/folders/75/tr_v06ms4k7gy38vcppxbcf80000gn/T/ipykernel_62994/1344624173.py:2: SettingWithCopyWarning: \n",
      "A value is trying to be set on a copy of a slice from a DataFrame.\n",
      "Try using .loc[row_indexer,col_indexer] = value instead\n",
      "\n",
      "See the caveats in the documentation: https://pandas.pydata.org/pandas-docs/stable/user_guide/indexing.html#returning-a-view-versus-a-copy\n",
      "  control['Variant'] = 'Control'\n"
     ]
    }
   ],
   "source": [
    "variant2['Variant'] = 'Variant 2'\n",
    "control['Variant'] = 'Control'"
   ]
  },
  {
   "cell_type": "code",
   "execution_count": 18,
   "metadata": {},
   "outputs": [],
   "source": [
    "# Concatenate all 3 data sets\n",
    "final_dataset = pd.concat([variant1, variant2, control], axis=0)"
   ]
  },
  {
   "cell_type": "code",
   "execution_count": 19,
   "metadata": {},
   "outputs": [
    {
     "data": {
      "text/html": [
       "<div>\n",
       "<style scoped>\n",
       "    .dataframe tbody tr th:only-of-type {\n",
       "        vertical-align: middle;\n",
       "    }\n",
       "\n",
       "    .dataframe tbody tr th {\n",
       "        vertical-align: top;\n",
       "    }\n",
       "\n",
       "    .dataframe thead th {\n",
       "        text-align: right;\n",
       "    }\n",
       "</style>\n",
       "<table border=\"1\" class=\"dataframe\">\n",
       "  <thead>\n",
       "    <tr style=\"text-align: right;\">\n",
       "      <th></th>\n",
       "      <th>Age</th>\n",
       "      <th>Device Type</th>\n",
       "      <th>Location</th>\n",
       "      <th>Average Spend</th>\n",
       "      <th>Average Play Time</th>\n",
       "      <th>Average Time Watching Ads</th>\n",
       "      <th>Variant</th>\n",
       "    </tr>\n",
       "    <tr>\n",
       "      <th>User ID</th>\n",
       "      <th></th>\n",
       "      <th></th>\n",
       "      <th></th>\n",
       "      <th></th>\n",
       "      <th></th>\n",
       "      <th></th>\n",
       "      <th></th>\n",
       "    </tr>\n",
       "  </thead>\n",
       "  <tbody>\n",
       "    <tr>\n",
       "      <th>1</th>\n",
       "      <td>62</td>\n",
       "      <td>Device3</td>\n",
       "      <td>Location3</td>\n",
       "      <td>54.608937</td>\n",
       "      <td>0.234102</td>\n",
       "      <td>2.262157</td>\n",
       "      <td>Variant 1</td>\n",
       "    </tr>\n",
       "    <tr>\n",
       "      <th>2</th>\n",
       "      <td>65</td>\n",
       "      <td>Device1</td>\n",
       "      <td>Location1</td>\n",
       "      <td>36.428457</td>\n",
       "      <td>0.802944</td>\n",
       "      <td>1.440160</td>\n",
       "      <td>Variant 1</td>\n",
       "    </tr>\n",
       "    <tr>\n",
       "      <th>3</th>\n",
       "      <td>18</td>\n",
       "      <td>Device1</td>\n",
       "      <td>Location2</td>\n",
       "      <td>84.843851</td>\n",
       "      <td>4.349362</td>\n",
       "      <td>0.374079</td>\n",
       "      <td>Variant 1</td>\n",
       "    </tr>\n",
       "    <tr>\n",
       "      <th>4</th>\n",
       "      <td>21</td>\n",
       "      <td>Device3</td>\n",
       "      <td>Location1</td>\n",
       "      <td>30.963386</td>\n",
       "      <td>5.966833</td>\n",
       "      <td>2.430972</td>\n",
       "      <td>Variant 1</td>\n",
       "    </tr>\n",
       "    <tr>\n",
       "      <th>5</th>\n",
       "      <td>21</td>\n",
       "      <td>Device3</td>\n",
       "      <td>Location2</td>\n",
       "      <td>76.392755</td>\n",
       "      <td>9.401406</td>\n",
       "      <td>1.041962</td>\n",
       "      <td>Variant 1</td>\n",
       "    </tr>\n",
       "    <tr>\n",
       "      <th>...</th>\n",
       "      <td>...</td>\n",
       "      <td>...</td>\n",
       "      <td>...</td>\n",
       "      <td>...</td>\n",
       "      <td>...</td>\n",
       "      <td>...</td>\n",
       "      <td>...</td>\n",
       "    </tr>\n",
       "    <tr>\n",
       "      <th>996</th>\n",
       "      <td>54</td>\n",
       "      <td>Device1</td>\n",
       "      <td>Location3</td>\n",
       "      <td>77.823025</td>\n",
       "      <td>7.265630</td>\n",
       "      <td>1.881264</td>\n",
       "      <td>Control</td>\n",
       "    </tr>\n",
       "    <tr>\n",
       "      <th>997</th>\n",
       "      <td>19</td>\n",
       "      <td>Device1</td>\n",
       "      <td>Location3</td>\n",
       "      <td>27.422427</td>\n",
       "      <td>9.863676</td>\n",
       "      <td>1.798216</td>\n",
       "      <td>Control</td>\n",
       "    </tr>\n",
       "    <tr>\n",
       "      <th>998</th>\n",
       "      <td>47</td>\n",
       "      <td>Device2</td>\n",
       "      <td>Location1</td>\n",
       "      <td>28.934192</td>\n",
       "      <td>2.449896</td>\n",
       "      <td>2.218613</td>\n",
       "      <td>Control</td>\n",
       "    </tr>\n",
       "    <tr>\n",
       "      <th>999</th>\n",
       "      <td>23</td>\n",
       "      <td>Device1</td>\n",
       "      <td>Location3</td>\n",
       "      <td>39.857764</td>\n",
       "      <td>8.261137</td>\n",
       "      <td>2.130031</td>\n",
       "      <td>Control</td>\n",
       "    </tr>\n",
       "    <tr>\n",
       "      <th>1000</th>\n",
       "      <td>34</td>\n",
       "      <td>Device3</td>\n",
       "      <td>Location3</td>\n",
       "      <td>97.084726</td>\n",
       "      <td>5.968015</td>\n",
       "      <td>0.744696</td>\n",
       "      <td>Control</td>\n",
       "    </tr>\n",
       "  </tbody>\n",
       "</table>\n",
       "<p>1000 rows × 7 columns</p>\n",
       "</div>"
      ],
      "text/plain": [
       "         Age Device Type   Location  Average Spend  Average Play Time  \\\n",
       "User ID                                                                 \n",
       "1         62     Device3  Location3      54.608937           0.234102   \n",
       "2         65     Device1  Location1      36.428457           0.802944   \n",
       "3         18     Device1  Location2      84.843851           4.349362   \n",
       "4         21     Device3  Location1      30.963386           5.966833   \n",
       "5         21     Device3  Location2      76.392755           9.401406   \n",
       "...      ...         ...        ...            ...                ...   \n",
       "996       54     Device1  Location3      77.823025           7.265630   \n",
       "997       19     Device1  Location3      27.422427           9.863676   \n",
       "998       47     Device2  Location1      28.934192           2.449896   \n",
       "999       23     Device1  Location3      39.857764           8.261137   \n",
       "1000      34     Device3  Location3      97.084726           5.968015   \n",
       "\n",
       "         Average Time Watching Ads    Variant  \n",
       "User ID                                        \n",
       "1                         2.262157  Variant 1  \n",
       "2                         1.440160  Variant 1  \n",
       "3                         0.374079  Variant 1  \n",
       "4                         2.430972  Variant 1  \n",
       "5                         1.041962  Variant 1  \n",
       "...                            ...        ...  \n",
       "996                       1.881264    Control  \n",
       "997                       1.798216    Control  \n",
       "998                       2.218613    Control  \n",
       "999                       2.130031    Control  \n",
       "1000                      0.744696    Control  \n",
       "\n",
       "[1000 rows x 7 columns]"
      ]
     },
     "execution_count": 19,
     "metadata": {},
     "output_type": "execute_result"
    }
   ],
   "source": [
    "final_dataset"
   ]
  },
  {
   "attachments": {},
   "cell_type": "markdown",
   "metadata": {},
   "source": [
    "Once we have confirmed that the users have similar behaviour, and we have identified users for each variant, we can give this new user list to the Engineering Team or the appropriate team which can deploy the experiment.\n",
    "\n",
    "## Analyzing Experiment Results\n",
    "\n",
    "Now let's suppose that we ran the experiment over 2 weeks, and after two weeks we decided to analyze the results. We now have a new data set with 3 new columns:\n",
    "* Post_Test_Avg_Spend = this looks at the average spend per user after the discount test\n",
    "* Post_Test_Avg_Play-Time = this looks at the average time spent playing games by users after the discount test\n",
    "* Post_Test_Avg_Time_Watching_Ads = this looks at the average time spent watching ads after the discount test\n",
    "\n",
    "Let's import the data."
   ]
  },
  {
   "cell_type": "code",
   "execution_count": 20,
   "metadata": {},
   "outputs": [],
   "source": [
    "results = pd.read_csv('https://raw.githubusercontent.com/delinai/schulich_ds1/main/Datasets/experiment_demo_dataset_results.csv')"
   ]
  },
  {
   "cell_type": "code",
   "execution_count": 21,
   "metadata": {},
   "outputs": [
    {
     "data": {
      "text/html": [
       "<div>\n",
       "<style scoped>\n",
       "    .dataframe tbody tr th:only-of-type {\n",
       "        vertical-align: middle;\n",
       "    }\n",
       "\n",
       "    .dataframe tbody tr th {\n",
       "        vertical-align: top;\n",
       "    }\n",
       "\n",
       "    .dataframe thead th {\n",
       "        text-align: right;\n",
       "    }\n",
       "</style>\n",
       "<table border=\"1\" class=\"dataframe\">\n",
       "  <thead>\n",
       "    <tr style=\"text-align: right;\">\n",
       "      <th></th>\n",
       "      <th>User ID</th>\n",
       "      <th>Age</th>\n",
       "      <th>Device Type</th>\n",
       "      <th>Location</th>\n",
       "      <th>Average Spend</th>\n",
       "      <th>Average Play Time</th>\n",
       "      <th>Average Time Watching Ads</th>\n",
       "      <th>Variant</th>\n",
       "      <th>Post_Test_Avg_Spend</th>\n",
       "      <th>Post_Test_Avg_Play_Time</th>\n",
       "      <th>Post_Test_Avg_Time_Watching_Ads</th>\n",
       "    </tr>\n",
       "  </thead>\n",
       "  <tbody>\n",
       "    <tr>\n",
       "      <th>0</th>\n",
       "      <td>1</td>\n",
       "      <td>62</td>\n",
       "      <td>Device3</td>\n",
       "      <td>Location3</td>\n",
       "      <td>54.608937</td>\n",
       "      <td>0.234102</td>\n",
       "      <td>2.262157</td>\n",
       "      <td>Variant 1</td>\n",
       "      <td>88</td>\n",
       "      <td>9</td>\n",
       "      <td>0</td>\n",
       "    </tr>\n",
       "    <tr>\n",
       "      <th>1</th>\n",
       "      <td>2</td>\n",
       "      <td>65</td>\n",
       "      <td>Device1</td>\n",
       "      <td>Location1</td>\n",
       "      <td>36.428457</td>\n",
       "      <td>0.802944</td>\n",
       "      <td>1.440160</td>\n",
       "      <td>Variant 1</td>\n",
       "      <td>78</td>\n",
       "      <td>3</td>\n",
       "      <td>1</td>\n",
       "    </tr>\n",
       "    <tr>\n",
       "      <th>2</th>\n",
       "      <td>3</td>\n",
       "      <td>18</td>\n",
       "      <td>Device1</td>\n",
       "      <td>Location2</td>\n",
       "      <td>84.843851</td>\n",
       "      <td>4.349362</td>\n",
       "      <td>0.374079</td>\n",
       "      <td>Variant 1</td>\n",
       "      <td>102</td>\n",
       "      <td>5</td>\n",
       "      <td>3</td>\n",
       "    </tr>\n",
       "    <tr>\n",
       "      <th>3</th>\n",
       "      <td>4</td>\n",
       "      <td>21</td>\n",
       "      <td>Device3</td>\n",
       "      <td>Location1</td>\n",
       "      <td>30.963386</td>\n",
       "      <td>5.966833</td>\n",
       "      <td>2.430972</td>\n",
       "      <td>Variant 1</td>\n",
       "      <td>112</td>\n",
       "      <td>6</td>\n",
       "      <td>4</td>\n",
       "    </tr>\n",
       "    <tr>\n",
       "      <th>4</th>\n",
       "      <td>5</td>\n",
       "      <td>21</td>\n",
       "      <td>Device3</td>\n",
       "      <td>Location2</td>\n",
       "      <td>76.392755</td>\n",
       "      <td>9.401406</td>\n",
       "      <td>1.041962</td>\n",
       "      <td>Variant 1</td>\n",
       "      <td>81</td>\n",
       "      <td>4</td>\n",
       "      <td>3</td>\n",
       "    </tr>\n",
       "  </tbody>\n",
       "</table>\n",
       "</div>"
      ],
      "text/plain": [
       "   User ID  Age Device Type   Location  Average Spend  Average Play Time  \\\n",
       "0        1   62     Device3  Location3      54.608937           0.234102   \n",
       "1        2   65     Device1  Location1      36.428457           0.802944   \n",
       "2        3   18     Device1  Location2      84.843851           4.349362   \n",
       "3        4   21     Device3  Location1      30.963386           5.966833   \n",
       "4        5   21     Device3  Location2      76.392755           9.401406   \n",
       "\n",
       "   Average Time Watching Ads    Variant  Post_Test_Avg_Spend  \\\n",
       "0                   2.262157  Variant 1                   88   \n",
       "1                   1.440160  Variant 1                   78   \n",
       "2                   0.374079  Variant 1                  102   \n",
       "3                   2.430972  Variant 1                  112   \n",
       "4                   1.041962  Variant 1                   81   \n",
       "\n",
       "   Post_Test_Avg_Play_Time  Post_Test_Avg_Time_Watching_Ads  \n",
       "0                        9                                0  \n",
       "1                        3                                1  \n",
       "2                        5                                3  \n",
       "3                        6                                4  \n",
       "4                        4                                3  "
      ]
     },
     "execution_count": 21,
     "metadata": {},
     "output_type": "execute_result"
    }
   ],
   "source": [
    "results.head()"
   ]
  },
  {
   "attachments": {},
   "cell_type": "markdown",
   "metadata": {},
   "source": [
    "Now we should evaluate the results. We can use an ANOVA test to compare all 3 groups (Variant 1, Variant 2, and Control), and also t-tests to compare individual variants to the Control, and to each other. Let's review the results."
   ]
  },
  {
   "cell_type": "code",
   "execution_count": 22,
   "metadata": {},
   "outputs": [
    {
     "name": "stdout",
     "output_type": "stream",
     "text": [
      "F_onewayResult(statistic=721.5888481862228, pvalue=1.659365119376383e-194)\n"
     ]
    }
   ],
   "source": [
    "# checking spend\n",
    "var1 = results[results['Variant']=='Variant 1']['Post_Test_Avg_Spend']\n",
    "var2 = results[results['Variant']=='Variant 2']['Post_Test_Avg_Spend']\n",
    "control = results[results['Variant']=='Control']['Post_Test_Avg_Spend']\n",
    "\n",
    "p_val = stats.f_oneway(var1, var2, control)\n",
    "print(p_val)"
   ]
  },
  {
   "cell_type": "code",
   "execution_count": 23,
   "metadata": {},
   "outputs": [
    {
     "name": "stdout",
     "output_type": "stream",
     "text": [
      "F_onewayResult(statistic=2.8910397415994877, pvalue=0.055984033047406054)\n"
     ]
    }
   ],
   "source": [
    "# checking play time\n",
    "var1 = results[results['Variant']=='Variant 1']['Post_Test_Avg_Play_Time']\n",
    "var2 = results[results['Variant']=='Variant 2']['Post_Test_Avg_Play_Time']\n",
    "control = results[results['Variant']=='Control']['Post_Test_Avg_Play_Time']\n",
    "\n",
    "p_val = stats.f_oneway(var1, var2, control)\n",
    "print(p_val)"
   ]
  },
  {
   "cell_type": "code",
   "execution_count": 24,
   "metadata": {},
   "outputs": [
    {
     "name": "stdout",
     "output_type": "stream",
     "text": [
      "F_onewayResult(statistic=175.98453563485413, pvalue=3.495772779084361e-66)\n"
     ]
    }
   ],
   "source": [
    "# checking ad watching time\n",
    "var1 = results[results['Variant']=='Variant 1']['Post_Test_Avg_Time_Watching_Ads']\n",
    "var2 = results[results['Variant']=='Variant 2']['Post_Test_Avg_Time_Watching_Ads']\n",
    "control = results[results['Variant']=='Control']['Post_Test_Avg_Time_Watching_Ads']\n",
    "\n",
    "p_val = stats.f_oneway(var1, var2, control)\n",
    "print(p_val)"
   ]
  },
  {
   "attachments": {},
   "cell_type": "markdown",
   "metadata": {},
   "source": [
    "Based on the ANOVA, we see that both the Spend and Ad Watching time have statistically significant results! This means that the variants and the control group have completely different behaviours in their Spending and Ad Waching time, based on the discount offered. However, the Play Time has not changed much from before the discount. This makes sense, since we were not targeting or incentivizing users to change the amount of time they play a game.\n",
    "\n",
    "Let's do an independent t-test next for each variant compared to the control, and then the variants compared to each other."
   ]
  },
  {
   "cell_type": "code",
   "execution_count": 25,
   "metadata": {},
   "outputs": [
    {
     "name": "stdout",
     "output_type": "stream",
     "text": [
      "Ttest_indResult(statistic=20.852764656657413, pvalue=1.939954903041814e-75)\n",
      "Ttest_indResult(statistic=34.71741287396566, pvalue=3.4380838932331946e-154)\n",
      "Ttest_indResult(statistic=-17.552071233010796, pvalue=6.134968318898046e-56)\n"
     ]
    }
   ],
   "source": [
    "# Compare Spend\n",
    "\n",
    "var1 = results[results['Variant']=='Variant 1']['Post_Test_Avg_Spend']\n",
    "var2 = results[results['Variant']=='Variant 2']['Post_Test_Avg_Spend']\n",
    "control = results[results['Variant']=='Control']['Post_Test_Avg_Spend']\n",
    "\n",
    "p_val = stats.ttest_ind(var1, control)\n",
    "p_val_2 = stats.ttest_ind(var2, control)\n",
    "p_val_3 = stats.ttest_ind(var1, var2)\n",
    "print(p_val)\n",
    "print(p_val_2)\n",
    "print(p_val_3)"
   ]
  },
  {
   "attachments": {},
   "cell_type": "markdown",
   "metadata": {},
   "source": [
    "When comparing Spend, we see there are significant differences between both variants and the control. This means we should have one variant that performs better than the others - we'll get back to this shortly."
   ]
  },
  {
   "cell_type": "code",
   "execution_count": 26,
   "metadata": {},
   "outputs": [
    {
     "name": "stdout",
     "output_type": "stream",
     "text": [
      "Ttest_indResult(statistic=-13.386879454840882, pvalue=1.5310600393512453e-36)\n",
      "Ttest_indResult(statistic=-14.568723666360519, pvalue=3.571429475888476e-42)\n",
      "Ttest_indResult(statistic=0.8071301318967642, pvalue=0.419912416689849)\n"
     ]
    }
   ],
   "source": [
    "# checking ad watching time\n",
    "var1 = results[results['Variant']=='Variant 1']['Post_Test_Avg_Time_Watching_Ads']\n",
    "var2 = results[results['Variant']=='Variant 2']['Post_Test_Avg_Time_Watching_Ads']\n",
    "control = results[results['Variant']=='Control']['Post_Test_Avg_Time_Watching_Ads']\n",
    "\n",
    "p_val = stats.ttest_ind(var1, control)\n",
    "p_val_2 = stats.ttest_ind(var2, control)\n",
    "p_val_3 = stats.ttest_ind(var1, var2)\n",
    "print(p_val)\n",
    "print(p_val_2)\n",
    "print(p_val_3)"
   ]
  },
  {
   "attachments": {},
   "cell_type": "markdown",
   "metadata": {},
   "source": [
    "Based on the ad-watching time, we can see that both Variant 1 and Variant 2 are statistically significantly different than the Control group! However, they are not different from each other. This means that likely no matter which variant we select (10% discount or 20% discount) to implement permanently, both should yield good results post-implementation."
   ]
  },
  {
   "cell_type": "code",
   "execution_count": 27,
   "metadata": {},
   "outputs": [
    {
     "name": "stdout",
     "output_type": "stream",
     "text": [
      "Ttest_indResult(statistic=1.9707612533248144, pvalue=0.04914591976859942)\n",
      "Ttest_indResult(statistic=2.1031563575673995, pvalue=0.03580947626027853)\n",
      "Ttest_indResult(statistic=-0.12640047334730473, pvalue=0.8994574139012586)\n"
     ]
    }
   ],
   "source": [
    "# checking play time\n",
    "var1 = results[results['Variant']=='Variant 1']['Post_Test_Avg_Play_Time']\n",
    "var2 = results[results['Variant']=='Variant 2']['Post_Test_Avg_Play_Time']\n",
    "control = results[results['Variant']=='Control']['Post_Test_Avg_Play_Time']\n",
    "\n",
    "p_val = stats.ttest_ind(var1, control)\n",
    "p_val_2 = stats.ttest_ind(var2, control)\n",
    "p_val_3 = stats.ttest_ind(var1, var2)\n",
    "print(p_val)\n",
    "print(p_val_2)\n",
    "print(p_val_3)"
   ]
  },
  {
   "attachments": {},
   "cell_type": "markdown",
   "metadata": {},
   "source": [
    "We can see that both Variant 1 and Variant 2 resulted in statistically significantly different play time, even though that wasn't the intention! However, there is no difference between the two variants - we will check if they perform better and then make a decision.\n",
    "\n",
    "Now that we know the discount worked well in improving spend, let's see which variant worked better."
   ]
  },
  {
   "cell_type": "code",
   "execution_count": 28,
   "metadata": {},
   "outputs": [
    {
     "data": {
      "text/html": [
       "<div>\n",
       "<style scoped>\n",
       "    .dataframe tbody tr th:only-of-type {\n",
       "        vertical-align: middle;\n",
       "    }\n",
       "\n",
       "    .dataframe tbody tr th {\n",
       "        vertical-align: top;\n",
       "    }\n",
       "\n",
       "    .dataframe thead th {\n",
       "        text-align: right;\n",
       "    }\n",
       "</style>\n",
       "<table border=\"1\" class=\"dataframe\">\n",
       "  <thead>\n",
       "    <tr style=\"text-align: right;\">\n",
       "      <th></th>\n",
       "      <th>Post_Test_Avg_Spend</th>\n",
       "    </tr>\n",
       "    <tr>\n",
       "      <th>Variant</th>\n",
       "      <th></th>\n",
       "    </tr>\n",
       "  </thead>\n",
       "  <tbody>\n",
       "    <tr>\n",
       "      <th>Control</th>\n",
       "      <td>50.467500</td>\n",
       "    </tr>\n",
       "    <tr>\n",
       "      <th>Variant 1</th>\n",
       "      <td>88.660000</td>\n",
       "    </tr>\n",
       "    <tr>\n",
       "      <th>Variant 2</th>\n",
       "      <td>109.683333</td>\n",
       "    </tr>\n",
       "  </tbody>\n",
       "</table>\n",
       "</div>"
      ],
      "text/plain": [
       "           Post_Test_Avg_Spend\n",
       "Variant                       \n",
       "Control              50.467500\n",
       "Variant 1            88.660000\n",
       "Variant 2           109.683333"
      ]
     },
     "execution_count": 28,
     "metadata": {},
     "output_type": "execute_result"
    }
   ],
   "source": [
    "results.groupby('Variant')[['Post_Test_Avg_Spend']].mean()"
   ]
  },
  {
   "attachments": {},
   "cell_type": "markdown",
   "metadata": {},
   "source": [
    "It looks like Variant 2 (20% discount) resulted in much higher average spend than control, and than Variant 1. And since we know this result is not a coincidence, and is in fact statistically significant, we should implement Variant 2 to drive higher spend in our users."
   ]
  },
  {
   "cell_type": "code",
   "execution_count": 29,
   "metadata": {},
   "outputs": [
    {
     "data": {
      "text/html": [
       "<div>\n",
       "<style scoped>\n",
       "    .dataframe tbody tr th:only-of-type {\n",
       "        vertical-align: middle;\n",
       "    }\n",
       "\n",
       "    .dataframe tbody tr th {\n",
       "        vertical-align: top;\n",
       "    }\n",
       "\n",
       "    .dataframe thead th {\n",
       "        text-align: right;\n",
       "    }\n",
       "</style>\n",
       "<table border=\"1\" class=\"dataframe\">\n",
       "  <thead>\n",
       "    <tr style=\"text-align: right;\">\n",
       "      <th></th>\n",
       "      <th>Post_Test_Avg_Play_Time</th>\n",
       "    </tr>\n",
       "    <tr>\n",
       "      <th>Variant</th>\n",
       "      <th></th>\n",
       "    </tr>\n",
       "  </thead>\n",
       "  <tbody>\n",
       "    <tr>\n",
       "      <th>Control</th>\n",
       "      <td>4.555000</td>\n",
       "    </tr>\n",
       "    <tr>\n",
       "      <th>Variant 1</th>\n",
       "      <td>4.986667</td>\n",
       "    </tr>\n",
       "    <tr>\n",
       "      <th>Variant 2</th>\n",
       "      <td>5.016667</td>\n",
       "    </tr>\n",
       "  </tbody>\n",
       "</table>\n",
       "</div>"
      ],
      "text/plain": [
       "           Post_Test_Avg_Play_Time\n",
       "Variant                           \n",
       "Control                   4.555000\n",
       "Variant 1                 4.986667\n",
       "Variant 2                 5.016667"
      ]
     },
     "execution_count": 29,
     "metadata": {},
     "output_type": "execute_result"
    }
   ],
   "source": [
    "results.groupby('Variant')[['Post_Test_Avg_Play_Time']].mean()"
   ]
  },
  {
   "attachments": {},
   "cell_type": "markdown",
   "metadata": {},
   "source": [
    "It looks like the average Play Time is slightly better than Control, and since we know the results are statistically significant, but both variants are better than control, it doesn't really matter which variant we choose. So far, since Variant 2 is better at Avg Spend, we may as well pick this for our top choice for now. But first, let's check the Ad Watching time."
   ]
  },
  {
   "cell_type": "code",
   "execution_count": 30,
   "metadata": {},
   "outputs": [
    {
     "data": {
      "text/html": [
       "<div>\n",
       "<style scoped>\n",
       "    .dataframe tbody tr th:only-of-type {\n",
       "        vertical-align: middle;\n",
       "    }\n",
       "\n",
       "    .dataframe tbody tr th {\n",
       "        vertical-align: top;\n",
       "    }\n",
       "\n",
       "    .dataframe thead th {\n",
       "        text-align: right;\n",
       "    }\n",
       "</style>\n",
       "<table border=\"1\" class=\"dataframe\">\n",
       "  <thead>\n",
       "    <tr style=\"text-align: right;\">\n",
       "      <th></th>\n",
       "      <th>Post_Test_Avg_Time_Watching_Ads</th>\n",
       "    </tr>\n",
       "    <tr>\n",
       "      <th>Variant</th>\n",
       "      <th></th>\n",
       "    </tr>\n",
       "  </thead>\n",
       "  <tbody>\n",
       "    <tr>\n",
       "      <th>Control</th>\n",
       "      <td>4.545000</td>\n",
       "    </tr>\n",
       "    <tr>\n",
       "      <th>Variant 1</th>\n",
       "      <td>2.106667</td>\n",
       "    </tr>\n",
       "    <tr>\n",
       "      <th>Variant 2</th>\n",
       "      <td>2.030000</td>\n",
       "    </tr>\n",
       "  </tbody>\n",
       "</table>\n",
       "</div>"
      ],
      "text/plain": [
       "           Post_Test_Avg_Time_Watching_Ads\n",
       "Variant                                   \n",
       "Control                           4.545000\n",
       "Variant 1                         2.106667\n",
       "Variant 2                         2.030000"
      ]
     },
     "execution_count": 30,
     "metadata": {},
     "output_type": "execute_result"
    }
   ],
   "source": [
    "results.groupby('Variant')[['Post_Test_Avg_Time_Watching_Ads']].mean()"
   ]
  },
  {
   "attachments": {},
   "cell_type": "markdown",
   "metadata": {},
   "source": [
    "Uh oh... it looks like both variants performed WORSE for ad watching, and actually Control performed the best. We know the results here are statistically significant - unfortunately in the wrong direction.\n",
    "\n",
    "#### Business Strategy\n",
    "Now that we have our results, we can consider the pros and cons and make a strategic decision. We know that Variant 1 and 2 both drive in-app purchases, and increase users' Average Spend. This is good for our business. On the other hand, both variants result in lower Ad Watching time, which is also good for our business. There is a clear tradeoff between deciding on these variants.\n",
    "\n",
    "From a business perspective, we need to select the variant based on our goals - in our case, we want to increase Revenue so it makes sense to select Variant 2. Ideally, we would compare the margin we get from in-app spend by users vs. the margin we get from Ad Watching (hint: usually direct spend is better for the business than ad revenue). \n",
    "\n",
    "In this example, we should decide to deploy Variant 2 to all users, acknowledging our ad revenue will take a hit. We could also recommend further testing before making a final decision, perhaps a discount + incentive to watch ads. "
   ]
  },
  {
   "cell_type": "code",
   "execution_count": null,
   "metadata": {},
   "outputs": [],
   "source": []
  }
 ],
 "metadata": {
  "kernelspec": {
   "display_name": "Python 3",
   "language": "python",
   "name": "python3"
  },
  "language_info": {
   "codemirror_mode": {
    "name": "ipython",
    "version": 3
   },
   "file_extension": ".py",
   "mimetype": "text/x-python",
   "name": "python",
   "nbconvert_exporter": "python",
   "pygments_lexer": "ipython3",
   "version": "3.9.9"
  },
  "orig_nbformat": 4
 },
 "nbformat": 4,
 "nbformat_minor": 2
}
